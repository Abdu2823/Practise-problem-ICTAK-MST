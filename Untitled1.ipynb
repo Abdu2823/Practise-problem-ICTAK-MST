{
  "nbformat": 4,
  "nbformat_minor": 0,
  "metadata": {
    "colab": {
      "provenance": []
    },
    "kernelspec": {
      "name": "python3",
      "display_name": "Python 3"
    },
    "language_info": {
      "name": "python"
    }
  },
  "cells": [
    {
      "cell_type": "code",
      "execution_count": null,
      "metadata": {
        "id": "9HGXgKdgrKaQ"
      },
      "outputs": [],
      "source": []
    },
    {
      "cell_type": "markdown",
      "source": [
        "Practice Problems\n",
        "    \n",
        "    1. Given the string \"Hello, World!\", extract and print the substring \"Hello\".\n",
        "    2. Given the string \"Python is fun\", extract and print the substring \"is\".\n",
        "    3. Given the string \"Programming\", extract and print the substring \"gram\" using slicing indices.\n",
        "    4. Given the string \"abcdefgh\", use slicing to print only the characters at even indices.\n",
        "    5. Given the string \"abcdefg\", use negative indices to extract and print the substring \"efg\".\n",
        "    6. Given the string \"Data Science\", use negative indices to extract and print the last three characters.\n",
        "    7. Given the string \"abcdefghij\", use slicing with a step to print every second character.\n",
        "    8. Given the string \"1234567890\", use slicing with a step to print the odd digits.\n",
        "    9. Given the string \"Hello\", use slicing to print the string in reverse order.\n",
        "    10. Given the string \"abcdefghijk\", extract and print the substring \"acegik\" using slicing."
      ],
      "metadata": {
        "id": "wy10Rw2GrMFj"
      }
    },
    {
      "cell_type": "code",
      "source": [
        "string = \"Hello, World!\"\n",
        "sub= string[:5]\n",
        "print(sub)"
      ],
      "metadata": {
        "id": "vZ2GDswUrRBC",
        "outputId": "9102921e-f0f7-4e0d-c890-a8ac74e86e0c",
        "colab": {
          "base_uri": "https://localhost:8080/"
        }
      },
      "execution_count": 34,
      "outputs": [
        {
          "output_type": "stream",
          "name": "stdout",
          "text": [
            "Hello\n"
          ]
        }
      ]
    },
    {
      "cell_type": "code",
      "source": [
        "string = \"Python is fun\"\n",
        "sub = string[7:10]\n",
        "print(sub)"
      ],
      "metadata": {
        "id": "aUmSaNzqreqr",
        "colab": {
          "base_uri": "https://localhost:8080/"
        },
        "outputId": "23f08296-d1e7-4329-e356-47b7809d214a"
      },
      "execution_count": 33,
      "outputs": [
        {
          "output_type": "stream",
          "name": "stdout",
          "text": [
            "is \n"
          ]
        }
      ]
    },
    {
      "cell_type": "code",
      "source": [
        "string = \"Programming\"\n",
        "sub= string[3:7]\n",
        "print(sub)"
      ],
      "metadata": {
        "colab": {
          "base_uri": "https://localhost:8080/"
        },
        "id": "q4fz23FDwgaz",
        "outputId": "18c8f48e-b48b-492c-8aea-ba3483ef7f62"
      },
      "execution_count": 32,
      "outputs": [
        {
          "output_type": "stream",
          "name": "stdout",
          "text": [
            "gram\n"
          ]
        }
      ]
    },
    {
      "cell_type": "code",
      "source": [
        "string = \"abcdefgh\"\n",
        "even= string[1:8:2]\n",
        "print(even)"
      ],
      "metadata": {
        "colab": {
          "base_uri": "https://localhost:8080/"
        },
        "id": "kOLzCbMmx2Vg",
        "outputId": "9f4028f7-517f-46de-bfba-33f54df9425e"
      },
      "execution_count": 21,
      "outputs": [
        {
          "output_type": "stream",
          "name": "stdout",
          "text": [
            "bdfh\n"
          ]
        }
      ]
    },
    {
      "cell_type": "code",
      "source": [
        "string = \"abcdefg\"\n",
        "str1= string[-3:]\n",
        "print(str1)"
      ],
      "metadata": {
        "colab": {
          "base_uri": "https://localhost:8080/"
        },
        "id": "GY5xY1T5yFE7",
        "outputId": "4ad4aabe-aa45-4614-973f-9fa3d3024e88"
      },
      "execution_count": 27,
      "outputs": [
        {
          "output_type": "stream",
          "name": "stdout",
          "text": [
            "efg\n"
          ]
        }
      ]
    },
    {
      "cell_type": "code",
      "source": [
        "string = \"Data Science\"\n",
        "last_three = string[-3:]\n",
        "print(last_three)"
      ],
      "metadata": {
        "colab": {
          "base_uri": "https://localhost:8080/"
        },
        "id": "pfgIqp9tyLWf",
        "outputId": "1f1d0868-2721-4fb2-96b6-430bbe3e72b4"
      },
      "execution_count": 31,
      "outputs": [
        {
          "output_type": "stream",
          "name": "stdout",
          "text": [
            "nce\n"
          ]
        }
      ]
    },
    {
      "cell_type": "code",
      "source": [
        "string = \"abcdefgh\"\n",
        "even= string[1:8:2]\n",
        "print(even)"
      ],
      "metadata": {
        "colab": {
          "base_uri": "https://localhost:8080/"
        },
        "id": "7XAavGgfyWVE",
        "outputId": "4c56b1f2-c87b-4a25-e08e-e29286cca33b"
      },
      "execution_count": 37,
      "outputs": [
        {
          "output_type": "stream",
          "name": "stdout",
          "text": [
            "bdfh\n"
          ]
        }
      ]
    },
    {
      "cell_type": "code",
      "source": [
        "string='1234567890'\n",
        "str2=string[0:11:2]\n",
        "print(str2)"
      ],
      "metadata": {
        "colab": {
          "base_uri": "https://localhost:8080/"
        },
        "id": "w65EevZrzJAo",
        "outputId": "5363c62b-f66f-405d-926d-74a4ba6bf156"
      },
      "execution_count": 40,
      "outputs": [
        {
          "output_type": "stream",
          "name": "stdout",
          "text": [
            "13579\n"
          ]
        }
      ]
    },
    {
      "cell_type": "code",
      "source": [
        "string = \"Hello\"\n",
        "rev = string[-1:-6:-1]\n",
        "print(rev)"
      ],
      "metadata": {
        "colab": {
          "base_uri": "https://localhost:8080/"
        },
        "id": "4v2Lh_5NzPVe",
        "outputId": "772aa7e8-e9a3-46cd-d2a6-127f0d9ce1ca"
      },
      "execution_count": 50,
      "outputs": [
        {
          "output_type": "stream",
          "name": "stdout",
          "text": [
            "olleH\n"
          ]
        }
      ]
    },
    {
      "cell_type": "code",
      "source": [
        "string = \"abcdefghijk\"\n",
        "sub= string[0:11:2]\n",
        "print(sub)"
      ],
      "metadata": {
        "colab": {
          "base_uri": "https://localhost:8080/"
        },
        "id": "-OanhlKszcio",
        "outputId": "3b7f42b0-df6d-4aac-b95b-669a84619870"
      },
      "execution_count": 49,
      "outputs": [
        {
          "output_type": "stream",
          "name": "stdout",
          "text": [
            "acegik\n"
          ]
        }
      ]
    }
  ]
}